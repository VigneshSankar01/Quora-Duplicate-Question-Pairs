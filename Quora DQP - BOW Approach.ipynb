{
 "cells": [
  {
   "cell_type": "code",
   "execution_count": 1,
   "id": "d21105b3",
   "metadata": {},
   "outputs": [],
   "source": [
    "import pandas as pd\n",
    "import matplotlib.pyplot as plt\n",
    "import numpy as np\n",
    "import seaborn as sns"
   ]
  },
  {
   "cell_type": "code",
   "execution_count": 2,
   "id": "9f91d903",
   "metadata": {},
   "outputs": [],
   "source": [
    "df = pd.read_csv('questions.csv')"
   ]
  },
  {
   "cell_type": "code",
   "execution_count": 3,
   "id": "e6300025",
   "metadata": {},
   "outputs": [
    {
     "data": {
      "text/plain": [
       "(404351, 6)"
      ]
     },
     "execution_count": 3,
     "metadata": {},
     "output_type": "execute_result"
    }
   ],
   "source": [
    "df.shape"
   ]
  },
  {
   "cell_type": "code",
   "execution_count": 4,
   "id": "c06848f1",
   "metadata": {},
   "outputs": [
    {
     "data": {
      "text/html": [
       "<div>\n",
       "<style scoped>\n",
       "    .dataframe tbody tr th:only-of-type {\n",
       "        vertical-align: middle;\n",
       "    }\n",
       "\n",
       "    .dataframe tbody tr th {\n",
       "        vertical-align: top;\n",
       "    }\n",
       "\n",
       "    .dataframe thead th {\n",
       "        text-align: right;\n",
       "    }\n",
       "</style>\n",
       "<table border=\"1\" class=\"dataframe\">\n",
       "  <thead>\n",
       "    <tr style=\"text-align: right;\">\n",
       "      <th></th>\n",
       "      <th>id</th>\n",
       "      <th>qid1</th>\n",
       "      <th>qid2</th>\n",
       "      <th>question1</th>\n",
       "      <th>question2</th>\n",
       "      <th>is_duplicate</th>\n",
       "    </tr>\n",
       "  </thead>\n",
       "  <tbody>\n",
       "    <tr>\n",
       "      <th>370471</th>\n",
       "      <td>370471</td>\n",
       "      <td>724977</td>\n",
       "      <td>724978</td>\n",
       "      <td>What were the major effects of the cambodia ea...</td>\n",
       "      <td>What were the major effects of the cambodia ea...</td>\n",
       "      <td>1</td>\n",
       "    </tr>\n",
       "    <tr>\n",
       "      <th>373206</th>\n",
       "      <td>373206</td>\n",
       "      <td>730222</td>\n",
       "      <td>730223</td>\n",
       "      <td>What will the world look like in the year 2100?</td>\n",
       "      <td>What will the world look like in 2100?</td>\n",
       "      <td>1</td>\n",
       "    </tr>\n",
       "    <tr>\n",
       "      <th>8412</th>\n",
       "      <td>8412</td>\n",
       "      <td>16802</td>\n",
       "      <td>16803</td>\n",
       "      <td>What's your experience on a full body massage ...</td>\n",
       "      <td>Which one is the best massage oil for men's body?</td>\n",
       "      <td>0</td>\n",
       "    </tr>\n",
       "    <tr>\n",
       "      <th>397409</th>\n",
       "      <td>397409</td>\n",
       "      <td>776523</td>\n",
       "      <td>776524</td>\n",
       "      <td>What kind of economy does the United States ha...</td>\n",
       "      <td>What kind of economy does the United States ha...</td>\n",
       "      <td>1</td>\n",
       "    </tr>\n",
       "    <tr>\n",
       "      <th>216214</th>\n",
       "      <td>216214</td>\n",
       "      <td>426333</td>\n",
       "      <td>426334</td>\n",
       "      <td>Is physical or mental labour more difficult?</td>\n",
       "      <td>Which is more difficult, mental labour or phys...</td>\n",
       "      <td>0</td>\n",
       "    </tr>\n",
       "    <tr>\n",
       "      <th>53923</th>\n",
       "      <td>53923</td>\n",
       "      <td>107301</td>\n",
       "      <td>107302</td>\n",
       "      <td>Where do you find downloaded files on an iPhon...</td>\n",
       "      <td>How can I recover my data from a damaged iPhon...</td>\n",
       "      <td>0</td>\n",
       "    </tr>\n",
       "    <tr>\n",
       "      <th>20206</th>\n",
       "      <td>20206</td>\n",
       "      <td>40318</td>\n",
       "      <td>40319</td>\n",
       "      <td>How much does it cost to make an app like Beyo...</td>\n",
       "      <td>How much does it cost to make an app like Arou...</td>\n",
       "      <td>0</td>\n",
       "    </tr>\n",
       "    <tr>\n",
       "      <th>47188</th>\n",
       "      <td>47188</td>\n",
       "      <td>93954</td>\n",
       "      <td>93955</td>\n",
       "      <td>What are the pros and cons of FDI for India?</td>\n",
       "      <td>What are the pros and cons if India and Pakist...</td>\n",
       "      <td>0</td>\n",
       "    </tr>\n",
       "    <tr>\n",
       "      <th>345860</th>\n",
       "      <td>345860</td>\n",
       "      <td>677760</td>\n",
       "      <td>677761</td>\n",
       "      <td>How do I support a friend who wants to quit sm...</td>\n",
       "      <td>How do I help someone close to me quit smoking?</td>\n",
       "      <td>1</td>\n",
       "    </tr>\n",
       "    <tr>\n",
       "      <th>197342</th>\n",
       "      <td>197342</td>\n",
       "      <td>389481</td>\n",
       "      <td>389482</td>\n",
       "      <td>With Google, Facebook, and the rest, why would...</td>\n",
       "      <td>Is it free to consume alcohol in the campuses ...</td>\n",
       "      <td>0</td>\n",
       "    </tr>\n",
       "  </tbody>\n",
       "</table>\n",
       "</div>"
      ],
      "text/plain": [
       "            id    qid1    qid2  \\\n",
       "370471  370471  724977  724978   \n",
       "373206  373206  730222  730223   \n",
       "8412      8412   16802   16803   \n",
       "397409  397409  776523  776524   \n",
       "216214  216214  426333  426334   \n",
       "53923    53923  107301  107302   \n",
       "20206    20206   40318   40319   \n",
       "47188    47188   93954   93955   \n",
       "345860  345860  677760  677761   \n",
       "197342  197342  389481  389482   \n",
       "\n",
       "                                                question1  \\\n",
       "370471  What were the major effects of the cambodia ea...   \n",
       "373206    What will the world look like in the year 2100?   \n",
       "8412    What's your experience on a full body massage ...   \n",
       "397409  What kind of economy does the United States ha...   \n",
       "216214       Is physical or mental labour more difficult?   \n",
       "53923   Where do you find downloaded files on an iPhon...   \n",
       "20206   How much does it cost to make an app like Beyo...   \n",
       "47188        What are the pros and cons of FDI for India?   \n",
       "345860  How do I support a friend who wants to quit sm...   \n",
       "197342  With Google, Facebook, and the rest, why would...   \n",
       "\n",
       "                                                question2  is_duplicate  \n",
       "370471  What were the major effects of the cambodia ea...             1  \n",
       "373206             What will the world look like in 2100?             1  \n",
       "8412    Which one is the best massage oil for men's body?             0  \n",
       "397409  What kind of economy does the United States ha...             1  \n",
       "216214  Which is more difficult, mental labour or phys...             0  \n",
       "53923   How can I recover my data from a damaged iPhon...             0  \n",
       "20206   How much does it cost to make an app like Arou...             0  \n",
       "47188   What are the pros and cons if India and Pakist...             0  \n",
       "345860    How do I help someone close to me quit smoking?             1  \n",
       "197342  Is it free to consume alcohol in the campuses ...             0  "
      ]
     },
     "execution_count": 4,
     "metadata": {},
     "output_type": "execute_result"
    }
   ],
   "source": [
    "df.sample(10)\n",
    "#This is a Binary Classification Problemdf."
   ]
  },
  {
   "cell_type": "code",
   "execution_count": 5,
   "id": "a312c186",
   "metadata": {},
   "outputs": [
    {
     "data": {
      "text/plain": [
       "id              0\n",
       "qid1            0\n",
       "qid2            0\n",
       "question1       1\n",
       "question2       2\n",
       "is_duplicate    0\n",
       "dtype: int64"
      ]
     },
     "execution_count": 5,
     "metadata": {},
     "output_type": "execute_result"
    }
   ],
   "source": [
    "df.isnull().sum()"
   ]
  },
  {
   "cell_type": "code",
   "execution_count": 6,
   "id": "3b9d6faf",
   "metadata": {},
   "outputs": [
    {
     "data": {
      "text/plain": [
       "0"
      ]
     },
     "execution_count": 6,
     "metadata": {},
     "output_type": "execute_result"
    }
   ],
   "source": [
    "df.duplicated().sum()"
   ]
  },
  {
   "cell_type": "code",
   "execution_count": 7,
   "id": "3a6db37d",
   "metadata": {},
   "outputs": [
    {
     "name": "stdout",
     "output_type": "stream",
     "text": [
      "<class 'pandas.core.frame.DataFrame'>\n",
      "RangeIndex: 404351 entries, 0 to 404350\n",
      "Data columns (total 6 columns):\n",
      " #   Column        Non-Null Count   Dtype \n",
      "---  ------        --------------   ----- \n",
      " 0   id            404351 non-null  int64 \n",
      " 1   qid1          404351 non-null  int64 \n",
      " 2   qid2          404351 non-null  int64 \n",
      " 3   question1     404350 non-null  object\n",
      " 4   question2     404349 non-null  object\n",
      " 5   is_duplicate  404351 non-null  int64 \n",
      "dtypes: int64(4), object(2)\n",
      "memory usage: 18.5+ MB\n"
     ]
    }
   ],
   "source": [
    "df.info()"
   ]
  },
  {
   "cell_type": "code",
   "execution_count": 8,
   "id": "77fb1adc",
   "metadata": {},
   "outputs": [
    {
     "name": "stdout",
     "output_type": "stream",
     "text": [
      "is_duplicate\n",
      "0    255045\n",
      "1    149306\n",
      "Name: count, dtype: int64\n",
      "is_duplicate\n",
      "0    63.07515\n",
      "1    36.92485\n",
      "Name: count, dtype: float64\n"
     ]
    }
   ],
   "source": [
    "# Get the class distribution\n",
    "print(df['is_duplicate'].value_counts())\n",
    "print(df['is_duplicate'].value_counts()/df['is_duplicate'].count() * 100)"
   ]
  },
  {
   "cell_type": "code",
   "execution_count": 9,
   "id": "c920e5f3",
   "metadata": {},
   "outputs": [
    {
     "name": "stdout",
     "output_type": "stream",
     "text": [
      "789801\n",
      "13698\n"
     ]
    }
   ],
   "source": [
    "#repeated questions\n",
    "newlen = pd.Series(df['qid1'].tolist()+df['qid2'].tolist())\n",
    "print(np.unique(newlen).shape[0])\n",
    "x = newlen.value_counts() > 1\n",
    "print(x[x].shape[0])"
   ]
  },
  {
   "cell_type": "code",
   "execution_count": 10,
   "id": "a5c01709",
   "metadata": {},
   "outputs": [
    {
     "data": {
      "image/png": "[encoded data removed]",
      "text/plain": [
       "<Figure size 640x480 with 1 Axes>"
      ]
     },
     "metadata": {},
     "output_type": "display_data"
    }
   ],
   "source": [
    "# we plot a histogram of the number of times each question has appeared\n",
    "plt.hist(newlen.value_counts().values,bins=100)\n",
    "plt.yscale('log')\n",
    "plt.show()"
   ]
  },
  {
   "cell_type": "markdown",
   "id": "9dc7efd7",
   "metadata": {},
   "source": [
    "### Only BOW"
   ]
  },
  {
   "cell_type": "code",
   "execution_count": 11,
   "id": "38f2193a",
   "metadata": {},
   "outputs": [],
   "source": [
    "bow_sampledf = df.sample(50000)"
   ]
  },
  {
   "cell_type": "code",
   "execution_count": 12,
   "id": "81bc0115",
   "metadata": {},
   "outputs": [],
   "source": [
    "newdf = bow_sampledf[['question1','question2']]"
   ]
  },
  {
   "cell_type": "code",
   "execution_count": 13,
   "id": "b9a1fca7",
   "metadata": {},
   "outputs": [
    {
     "data": {
      "text/html": [
       "<div>\n",
       "<style scoped>\n",
       "    .dataframe tbody tr th:only-of-type {\n",
       "        vertical-align: middle;\n",
       "    }\n",
       "\n",
       "    .dataframe tbody tr th {\n",
       "        vertical-align: top;\n",
       "    }\n",
       "\n",
       "    .dataframe thead th {\n",
       "        text-align: right;\n",
       "    }\n",
       "</style>\n",
       "<table border=\"1\" class=\"dataframe\">\n",
       "  <thead>\n",
       "    <tr style=\"text-align: right;\">\n",
       "      <th></th>\n",
       "      <th>question1</th>\n",
       "      <th>question2</th>\n",
       "    </tr>\n",
       "  </thead>\n",
       "  <tbody>\n",
       "    <tr>\n",
       "      <th>167299</th>\n",
       "      <td>How do I stop caring about what people think a...</td>\n",
       "      <td>Should I care what people think about me? Most...</td>\n",
       "    </tr>\n",
       "    <tr>\n",
       "      <th>205109</th>\n",
       "      <td>How does one submit a question anonymously?</td>\n",
       "      <td>How do I answer questions anonymously on Quora?</td>\n",
       "    </tr>\n",
       "    <tr>\n",
       "      <th>181462</th>\n",
       "      <td>Why is my dog throwing up and not eating?</td>\n",
       "      <td>Why is my dog throwing up yellow bile? What sh...</td>\n",
       "    </tr>\n",
       "    <tr>\n",
       "      <th>274178</th>\n",
       "      <td>What is behavioral isolation?</td>\n",
       "      <td>What does it mean by isolated system?</td>\n",
       "    </tr>\n",
       "    <tr>\n",
       "      <th>150514</th>\n",
       "      <td>How do WordPress and Blogger compare as bloggi...</td>\n",
       "      <td>Which is a better blogging platform, WordPress...</td>\n",
       "    </tr>\n",
       "    <tr>\n",
       "      <th>...</th>\n",
       "      <td>...</td>\n",
       "      <td>...</td>\n",
       "    </tr>\n",
       "    <tr>\n",
       "      <th>211335</th>\n",
       "      <td>Why do people do an MBA course after engineering?</td>\n",
       "      <td>Why do people do MBA after engineering?</td>\n",
       "    </tr>\n",
       "    <tr>\n",
       "      <th>166882</th>\n",
       "      <td>In prison break, why is Lincon \"Burrows\" and M...</td>\n",
       "      <td>How could Michael Scofield have survived for h...</td>\n",
       "    </tr>\n",
       "    <tr>\n",
       "      <th>301142</th>\n",
       "      <td>What are the lyrics of the Suits' (TV series) ...</td>\n",
       "      <td>After watching Harvey Specter in Suits which q...</td>\n",
       "    </tr>\n",
       "    <tr>\n",
       "      <th>307694</th>\n",
       "      <td>What are components of Strava, Garmin Connect ...</td>\n",
       "      <td>How can I make a simple network to connect 4 c...</td>\n",
       "    </tr>\n",
       "    <tr>\n",
       "      <th>197671</th>\n",
       "      <td>What is the difference between a stag, a moose...</td>\n",
       "      <td>Is there a difference between a serpent and a ...</td>\n",
       "    </tr>\n",
       "  </tbody>\n",
       "</table>\n",
       "<p>50000 rows × 2 columns</p>\n",
       "</div>"
      ],
      "text/plain": [
       "                                                question1  \\\n",
       "167299  How do I stop caring about what people think a...   \n",
       "205109        How does one submit a question anonymously?   \n",
       "181462          Why is my dog throwing up and not eating?   \n",
       "274178                      What is behavioral isolation?   \n",
       "150514  How do WordPress and Blogger compare as bloggi...   \n",
       "...                                                   ...   \n",
       "211335  Why do people do an MBA course after engineering?   \n",
       "166882  In prison break, why is Lincon \"Burrows\" and M...   \n",
       "301142  What are the lyrics of the Suits' (TV series) ...   \n",
       "307694  What are components of Strava, Garmin Connect ...   \n",
       "197671  What is the difference between a stag, a moose...   \n",
       "\n",
       "                                                question2  \n",
       "167299  Should I care what people think about me? Most...  \n",
       "205109    How do I answer questions anonymously on Quora?  \n",
       "181462  Why is my dog throwing up yellow bile? What sh...  \n",
       "274178              What does it mean by isolated system?  \n",
       "150514  Which is a better blogging platform, WordPress...  \n",
       "...                                                   ...  \n",
       "211335            Why do people do MBA after engineering?  \n",
       "166882  How could Michael Scofield have survived for h...  \n",
       "301142  After watching Harvey Specter in Suits which q...  \n",
       "307694  How can I make a simple network to connect 4 c...  \n",
       "197671  Is there a difference between a serpent and a ...  \n",
       "\n",
       "[50000 rows x 2 columns]"
      ]
     },
     "execution_count": 13,
     "metadata": {},
     "output_type": "execute_result"
    }
   ],
   "source": [
    "newdf"
   ]
  },
  {
   "cell_type": "code",
   "execution_count": 14,
   "id": "c8f6df9b",
   "metadata": {},
   "outputs": [],
   "source": [
    "from sklearn.feature_extraction.text import CountVectorizer\n",
    "import numpy as np\n",
    "\n",
    "questions = list(newdf['question1'].fillna('')) + list(newdf['question2'].fillna(''))\n",
    "\n",
    "# Call the CountVectorizer object\n",
    "cv = CountVectorizer(max_features=3000)\n",
    "q1, q2 = np.vsplit(cv.fit_transform(questions).toarray(), 2)\n"
   ]
  },
  {
   "cell_type": "code",
   "execution_count": 15,
   "id": "47cd8d0d",
   "metadata": {},
   "outputs": [],
   "source": [
    "tdf1 = pd.DataFrame(q1, index = newdf.index)\n",
    "tdf2 = pd.DataFrame(q2, index = newdf.index)"
   ]
  },
  {
   "cell_type": "code",
   "execution_count": 16,
   "id": "0257a843",
   "metadata": {},
   "outputs": [],
   "source": [
    "bowdf = pd.concat([tdf1,tdf2],axis=1)"
   ]
  },
  {
   "cell_type": "code",
   "execution_count": 17,
   "id": "626d68f0",
   "metadata": {},
   "outputs": [
    {
     "data": {
      "text/plain": [
       "(50000, 6000)"
      ]
     },
     "execution_count": 17,
     "metadata": {},
     "output_type": "execute_result"
    }
   ],
   "source": [
    "bowdf.shape"
   ]
  },
  {
   "cell_type": "code",
   "execution_count": 19,
   "id": "88f4b4f0",
   "metadata": {},
   "outputs": [],
   "source": [
    "bowdf['is_duplicate'] = bow_sampledf['is_duplicate']"
   ]
  },
  {
   "cell_type": "code",
   "execution_count": 20,
   "id": "23060aa4",
   "metadata": {},
   "outputs": [
    {
     "data": {
      "text/html": [
       "<div>\n",
       "<style scoped>\n",
       "    .dataframe tbody tr th:only-of-type {\n",
       "        vertical-align: middle;\n",
       "    }\n",
       "\n",
       "    .dataframe tbody tr th {\n",
       "        vertical-align: top;\n",
       "    }\n",
       "\n",
       "    .dataframe thead th {\n",
       "        text-align: right;\n",
       "    }\n",
       "</style>\n",
       "<table border=\"1\" class=\"dataframe\">\n",
       "  <thead>\n",
       "    <tr style=\"text-align: right;\">\n",
       "      <th></th>\n",
       "      <th>0</th>\n",
       "      <th>1</th>\n",
       "      <th>2</th>\n",
       "      <th>3</th>\n",
       "      <th>4</th>\n",
       "      <th>5</th>\n",
       "      <th>6</th>\n",
       "      <th>7</th>\n",
       "      <th>8</th>\n",
       "      <th>9</th>\n",
       "      <th>...</th>\n",
       "      <th>2991</th>\n",
       "      <th>2992</th>\n",
       "      <th>2993</th>\n",
       "      <th>2994</th>\n",
       "      <th>2995</th>\n",
       "      <th>2996</th>\n",
       "      <th>2997</th>\n",
       "      <th>2998</th>\n",
       "      <th>2999</th>\n",
       "      <th>is_duplicate</th>\n",
       "    </tr>\n",
       "  </thead>\n",
       "  <tbody>\n",
       "    <tr>\n",
       "      <th>167299</th>\n",
       "      <td>0</td>\n",
       "      <td>0</td>\n",
       "      <td>0</td>\n",
       "      <td>0</td>\n",
       "      <td>0</td>\n",
       "      <td>0</td>\n",
       "      <td>0</td>\n",
       "      <td>0</td>\n",
       "      <td>0</td>\n",
       "      <td>0</td>\n",
       "      <td>...</td>\n",
       "      <td>0</td>\n",
       "      <td>0</td>\n",
       "      <td>0</td>\n",
       "      <td>0</td>\n",
       "      <td>0</td>\n",
       "      <td>0</td>\n",
       "      <td>0</td>\n",
       "      <td>0</td>\n",
       "      <td>0</td>\n",
       "      <td>1</td>\n",
       "    </tr>\n",
       "    <tr>\n",
       "      <th>205109</th>\n",
       "      <td>0</td>\n",
       "      <td>0</td>\n",
       "      <td>0</td>\n",
       "      <td>0</td>\n",
       "      <td>0</td>\n",
       "      <td>0</td>\n",
       "      <td>0</td>\n",
       "      <td>0</td>\n",
       "      <td>0</td>\n",
       "      <td>0</td>\n",
       "      <td>...</td>\n",
       "      <td>0</td>\n",
       "      <td>0</td>\n",
       "      <td>0</td>\n",
       "      <td>0</td>\n",
       "      <td>0</td>\n",
       "      <td>0</td>\n",
       "      <td>0</td>\n",
       "      <td>0</td>\n",
       "      <td>0</td>\n",
       "      <td>0</td>\n",
       "    </tr>\n",
       "    <tr>\n",
       "      <th>181462</th>\n",
       "      <td>0</td>\n",
       "      <td>0</td>\n",
       "      <td>0</td>\n",
       "      <td>0</td>\n",
       "      <td>0</td>\n",
       "      <td>0</td>\n",
       "      <td>0</td>\n",
       "      <td>0</td>\n",
       "      <td>0</td>\n",
       "      <td>0</td>\n",
       "      <td>...</td>\n",
       "      <td>0</td>\n",
       "      <td>0</td>\n",
       "      <td>0</td>\n",
       "      <td>0</td>\n",
       "      <td>0</td>\n",
       "      <td>0</td>\n",
       "      <td>0</td>\n",
       "      <td>0</td>\n",
       "      <td>0</td>\n",
       "      <td>1</td>\n",
       "    </tr>\n",
       "    <tr>\n",
       "      <th>274178</th>\n",
       "      <td>0</td>\n",
       "      <td>0</td>\n",
       "      <td>0</td>\n",
       "      <td>0</td>\n",
       "      <td>0</td>\n",
       "      <td>0</td>\n",
       "      <td>0</td>\n",
       "      <td>0</td>\n",
       "      <td>0</td>\n",
       "      <td>0</td>\n",
       "      <td>...</td>\n",
       "      <td>0</td>\n",
       "      <td>0</td>\n",
       "      <td>0</td>\n",
       "      <td>0</td>\n",
       "      <td>0</td>\n",
       "      <td>0</td>\n",
       "      <td>0</td>\n",
       "      <td>0</td>\n",
       "      <td>0</td>\n",
       "      <td>0</td>\n",
       "    </tr>\n",
       "    <tr>\n",
       "      <th>150514</th>\n",
       "      <td>0</td>\n",
       "      <td>0</td>\n",
       "      <td>0</td>\n",
       "      <td>0</td>\n",
       "      <td>0</td>\n",
       "      <td>0</td>\n",
       "      <td>0</td>\n",
       "      <td>0</td>\n",
       "      <td>0</td>\n",
       "      <td>0</td>\n",
       "      <td>...</td>\n",
       "      <td>0</td>\n",
       "      <td>0</td>\n",
       "      <td>0</td>\n",
       "      <td>0</td>\n",
       "      <td>0</td>\n",
       "      <td>0</td>\n",
       "      <td>0</td>\n",
       "      <td>0</td>\n",
       "      <td>0</td>\n",
       "      <td>1</td>\n",
       "    </tr>\n",
       "  </tbody>\n",
       "</table>\n",
       "<p>5 rows × 6001 columns</p>\n",
       "</div>"
      ],
      "text/plain": [
       "        0  1  2  3  4  5  6  7  8  9  ...  2991  2992  2993  2994  2995  2996  \\\n",
       "167299  0  0  0  0  0  0  0  0  0  0  ...     0     0     0     0     0     0   \n",
       "205109  0  0  0  0  0  0  0  0  0  0  ...     0     0     0     0     0     0   \n",
       "181462  0  0  0  0  0  0  0  0  0  0  ...     0     0     0     0     0     0   \n",
       "274178  0  0  0  0  0  0  0  0  0  0  ...     0     0     0     0     0     0   \n",
       "150514  0  0  0  0  0  0  0  0  0  0  ...     0     0     0     0     0     0   \n",
       "\n",
       "        2997  2998  2999  is_duplicate  \n",
       "167299     0     0     0             1  \n",
       "205109     0     0     0             0  \n",
       "181462     0     0     0             1  \n",
       "274178     0     0     0             0  \n",
       "150514     0     0     0             1  \n",
       "\n",
       "[5 rows x 6001 columns]"
      ]
     },
     "execution_count": 20,
     "metadata": {},
     "output_type": "execute_result"
    }
   ],
   "source": [
    "bowdf.head()"
   ]
  },
  {
   "cell_type": "code",
   "execution_count": 21,
   "id": "47828c0b",
   "metadata": {},
   "outputs": [],
   "source": [
    "from sklearn.model_selection import train_test_split\n",
    "X_train, X_test, y_train, y_test = train_test_split(bowdf.iloc[:,0:-1].values,\n",
    "                                                   bowdf.iloc[:,-1].values,test_size=0.2,random_state=None)"
   ]
  },
  {
   "cell_type": "code",
   "execution_count": 22,
   "id": "0a16ff74",
   "metadata": {},
   "outputs": [
    {
     "data": {
      "text/html": [
       "<style>#sk-container-id-1 {color: black;}#sk-container-id-1 pre{padding: 0;}#sk-container-id-1 div.sk-toggleable {background-color: white;}#sk-container-id-1 label.sk-toggleable__label {cursor: pointer;display: block;width: 100%;margin-bottom: 0;padding: 0.3em;box-sizing: border-box;text-align: center;}#sk-container-id-1 label.sk-toggleable__label-arrow:before {content: \"▸\";float: left;margin-right: 0.25em;color: #696969;}#sk-container-id-1 label.sk-toggleable__label-arrow:hover:before {color: black;}#sk-container-id-1 div.sk-estimator:hover label.sk-toggleable__label-arrow:before {color: black;}#sk-container-id-1 div.sk-toggleable__content {max-height: 0;max-width: 0;overflow: hidden;text-align: left;background-color: #f0f8ff;}#sk-container-id-1 div.sk-toggleable__content pre {margin: 0.2em;color: black;border-radius: 0.25em;background-color: #f0f8ff;}#sk-container-id-1 input.sk-toggleable__control:checked~div.sk-toggleable__content {max-height: 200px;max-width: 100%;overflow: auto;}#sk-container-id-1 input.sk-toggleable__control:checked~label.sk-toggleable__label-arrow:before {content: \"▾\";}#sk-container-id-1 div.sk-estimator input.sk-toggleable__control:checked~label.sk-toggleable__label {background-color: #d4ebff;}#sk-container-id-1 div.sk-label input.sk-toggleable__control:checked~label.sk-toggleable__label {background-color: #d4ebff;}#sk-container-id-1 input.sk-hidden--visually {border: 0;clip: rect(1px 1px 1px 1px);clip: rect(1px, 1px, 1px, 1px);height: 1px;margin: -1px;overflow: hidden;padding: 0;position: absolute;width: 1px;}#sk-container-id-1 div.sk-estimator {font-family: monospace;background-color: #f0f8ff;border: 1px dotted black;border-radius: 0.25em;box-sizing: border-box;margin-bottom: 0.5em;}#sk-container-id-1 div.sk-estimator:hover {background-color: #d4ebff;}#sk-container-id-1 div.sk-parallel-item::after {content: \"\";width: 100%;border-bottom: 1px solid gray;flex-grow: 1;}#sk-container-id-1 div.sk-label:hover label.sk-toggleable__label {background-color: #d4ebff;}#sk-container-id-1 div.sk-serial::before {content: \"\";position: absolute;border-left: 1px solid gray;box-sizing: border-box;top: 0;bottom: 0;left: 50%;z-index: 0;}#sk-container-id-1 div.sk-serial {display: flex;flex-direction: column;align-items: center;background-color: white;padding-right: 0.2em;padding-left: 0.2em;position: relative;}#sk-container-id-1 div.sk-item {position: relative;z-index: 1;}#sk-container-id-1 div.sk-parallel {display: flex;align-items: stretch;justify-content: center;background-color: white;position: relative;}#sk-container-id-1 div.sk-item::before, #sk-container-id-1 div.sk-parallel-item::before {content: \"\";position: absolute;border-left: 1px solid gray;box-sizing: border-box;top: 0;bottom: 0;left: 50%;z-index: -1;}#sk-container-id-1 div.sk-parallel-item {display: flex;flex-direction: column;z-index: 1;position: relative;background-color: white;}#sk-container-id-1 div.sk-parallel-item:first-child::after {align-self: flex-end;width: 50%;}#sk-container-id-1 div.sk-parallel-item:last-child::after {align-self: flex-start;width: 50%;}#sk-container-id-1 div.sk-parallel-item:only-child::after {width: 0;}#sk-container-id-1 div.sk-dashed-wrapped {border: 1px dashed gray;margin: 0 0.4em 0.5em 0.4em;box-sizing: border-box;padding-bottom: 0.4em;background-color: white;}#sk-container-id-1 div.sk-label label {font-family: monospace;font-weight: bold;display: inline-block;line-height: 1.2em;}#sk-container-id-1 div.sk-label-container {text-align: center;}#sk-container-id-1 div.sk-container {/* jupyter's `normalize.less` sets `[hidden] { display: none; }` but bootstrap.min.css set `[hidden] { display: none !important; }` so we also need the `!important` here to be able to override the default hidden behavior on the sphinx rendered scikit-learn.org. See: https://github.com/scikit-learn/scikit-learn/issues/21755 */display: inline-block !important;position: relative;}#sk-container-id-1 div.sk-text-repr-fallback {display: none;}</style><div id=\"sk-container-id-1\" class=\"sk-top-container\"><div class=\"sk-text-repr-fallback\"><pre>RandomForestClassifier()</pre><b>In a Jupyter environment, please rerun this cell to show the HTML representation or trust the notebook. <br />On GitHub, the HTML representation is unable to render, please try loading this page with nbviewer.org.</b></div><div class=\"sk-container\" hidden><div class=\"sk-item\"><div class=\"sk-estimator sk-toggleable\"><input class=\"sk-toggleable__control sk-hidden--visually\" id=\"sk-estimator-id-1\" type=\"checkbox\" checked><label for=\"sk-estimator-id-1\" class=\"sk-toggleable__label sk-toggleable__label-arrow\">RandomForestClassifier</label><div class=\"sk-toggleable__content\"><pre>RandomForestClassifier()</pre></div></div></div></div></div>"
      ],
      "text/plain": [
       "RandomForestClassifier()"
      ]
     },
     "execution_count": 22,
     "metadata": {},
     "output_type": "execute_result"
    }
   ],
   "source": [
    "from sklearn.ensemble import RandomForestClassifier\n",
    "from sklearn.metrics import accuracy_score\n",
    "rf = RandomForestClassifier()\n",
    "rf.fit(X_train,y_train)"
   ]
  },
  {
   "cell_type": "code",
   "execution_count": 23,
   "id": "c1a93569",
   "metadata": {},
   "outputs": [
    {
     "data": {
      "text/plain": [
       "0.7493"
      ]
     },
     "execution_count": 23,
     "metadata": {},
     "output_type": "execute_result"
    }
   ],
   "source": [
    "y_pred = rf.predict(X_test)\n",
    "accuracy_score(y_test,y_pred)"
   ]
  },
  {
   "cell_type": "code",
   "execution_count": null,
   "id": "6524c48f",
   "metadata": {},
   "outputs": [],
   "source": []
  }
 ],
 "metadata": {
  "kernelspec": {
   "display_name": "py310",
   "language": "python",
   "name": "py310"
  },
  "language_info": {
   "codemirror_mode": {
    "name": "ipython",
    "version": 3
   },
   "file_extension": ".py",
   "mimetype": "text/x-python",
   "name": "python",
   "nbconvert_exporter": "python",
   "pygments_lexer": "ipython3",
   "version": "3.10.13"
  }
 },
 "nbformat": 4,
 "nbformat_minor": 5
}
